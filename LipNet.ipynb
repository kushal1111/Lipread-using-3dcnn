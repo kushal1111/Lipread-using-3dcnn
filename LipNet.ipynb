{
 "cells": [
  {
   "cell_type": "markdown",
   "id": "a3573a47-3689-4668-b62f-5c8451b2b4e9",
   "metadata": {
    "tags": []
   },
   "source": [
    "# 0. Install and Import Dependencies"
   ]
  },
  {
   "cell_type": "code",
   "execution_count": 54,
   "id": "02f907ea-f669-46c7-adcf-7f257e663448",
   "metadata": {
    "tags": []
   },
   "outputs": [
    {
     "name": "stdout",
     "output_type": "stream",
     "text": [
      "Defaulting to user installation because normal site-packages is not writeable\n",
      "Requirement already satisfied: opencv-python in c:\\users\\admin\\appdata\\roaming\\python\\python311\\site-packages (4.10.0.82)\n",
      "Requirement already satisfied: matplotlib in c:\\users\\admin\\appdata\\roaming\\python\\python311\\site-packages (3.7.1)\n",
      "Requirement already satisfied: imageio in c:\\users\\admin\\appdata\\roaming\\python\\python311\\site-packages (2.34.1)\n",
      "Requirement already satisfied: gdown in c:\\users\\admin\\appdata\\roaming\\python\\python311\\site-packages (5.2.0)\n",
      "Note: you may need to restart the kernel to use updated packages.\n"
     ]
    },
    {
     "name": "stderr",
     "output_type": "stream",
     "text": [
      "ERROR: Could not find a version that satisfies the requirement tensorflow==2.10.0 (from versions: 2.12.0rc0, 2.12.0rc1, 2.12.0, 2.12.1, 2.13.0rc0, 2.13.0rc1, 2.13.0rc2, 2.13.0, 2.13.1, 2.14.0rc0, 2.14.0rc1, 2.14.0, 2.14.1, 2.15.0rc0, 2.15.0rc1, 2.15.0, 2.15.1, 2.16.0rc0, 2.16.1, 2.17.0rc0)\n",
      "ERROR: No matching distribution found for tensorflow==2.10.0\n",
      "\n",
      "[notice] A new release of pip is available: 24.0 -> 24.1\n",
      "[notice] To update, run: python.exe -m pip install --upgrade pip\n"
     ]
    }
   ],
   "source": [
    "%pip install opencv-python matplotlib imageio gdown tensorflow==2.10.0"
   ]
  },
  {
   "cell_type": "code",
   "execution_count": 2,
   "id": "b24af50c-20b8-409d-ad78-30a933fdd669",
   "metadata": {
    "tags": []
   },
   "outputs": [],
   "source": [
    "import os\n",
    "import cv2\n",
    "import tensorflow as tf\n",
    "import numpy as np\n",
    "from typing import List\n",
    "from matplotlib import pyplot as plt\n",
    "import imageio"
   ]
  },
  {
   "cell_type": "code",
   "execution_count": 3,
   "id": "1e3db0b0-e559-4ad6-91fd-e7414b7d75e6",
   "metadata": {},
   "outputs": [
    {
     "data": {
      "text/plain": [
       "[]"
      ]
     },
     "execution_count": 3,
     "metadata": {},
     "output_type": "execute_result"
    }
   ],
   "source": [
    "tf.config.list_physical_devices('GPU')"
   ]
  },
  {
   "cell_type": "code",
   "execution_count": 4,
   "id": "378d045a-3003-4f93-b7d2-a25a97774a68",
   "metadata": {
    "tags": []
   },
   "outputs": [],
   "source": [
    "physical_devices = tf.config.list_physical_devices('GPU')\n",
    "try:\n",
    "    tf.config.experimental.set_memory_growth(physical_devices[0], True)\n",
    "except:\n",
    "    pass"
   ]
  },
  {
   "cell_type": "markdown",
   "id": "7a19e88e-c7b9-45c1-ae1e-f2109329c71b",
   "metadata": {
    "tags": []
   },
   "source": [
    "# 1. Build Data Loading Functions"
   ]
  },
  {
   "cell_type": "code",
   "execution_count": 5,
   "id": "8fb99c90-e05a-437f-839d-6e772f8c1dd5",
   "metadata": {
    "tags": []
   },
   "outputs": [],
   "source": [
    "import gdown"
   ]
  },
  {
   "cell_type": "code",
   "execution_count": 6,
   "id": "c019e4c6-2af3-4160-99ea-5c8cb009f1a7",
   "metadata": {
    "tags": []
   },
   "outputs": [],
   "source": [
    "# url = 'https://drive.google.com/uc?id=1YlvpDLix3S-U8fd-gqRwPcWXAXm8JwjL'\n",
    "# output = 'data.zip'\n",
    "# gdown.download(url, output, quiet=False)\n",
    "# gdown.extractall('data.zip')"
   ]
  },
  {
   "cell_type": "code",
   "execution_count": 7,
   "id": "8548cc59-6dfc-4acc-abc3-3e65212db02e",
   "metadata": {
    "tags": []
   },
   "outputs": [],
   "source": [
    "def load_video(path:str) -> List[float]: \n",
    "\n",
    "    cap = cv2.VideoCapture(path)\n",
    "    frames = []\n",
    "    for _ in range(int(cap.get(cv2.CAP_PROP_FRAME_COUNT))): \n",
    "        ret, frame = cap.read()\n",
    "        frame = tf.image.rgb_to_grayscale(frame)\n",
    "        frames.append(frame[190:236,80:220,:])\n",
    "    cap.release()\n",
    "    \n",
    "    mean = tf.math.reduce_mean(frames)\n",
    "    std = tf.math.reduce_std(tf.cast(frames, tf.float32))\n",
    "    return tf.cast((frames - mean), tf.float32) / std"
   ]
  },
  {
   "cell_type": "code",
   "execution_count": 8,
   "id": "ec735e0b-ec98-4eb0-8f49-c35527d6670a",
   "metadata": {
    "tags": []
   },
   "outputs": [],
   "source": [
    "vocab = [x for x in \"abcdefghijklmnopqrstuvwxyz'?!123456789 \"]"
   ]
  },
  {
   "cell_type": "code",
   "execution_count": 9,
   "id": "be04e972-d7a5-4a72-82d8-a6bdde1f3ce6",
   "metadata": {
    "tags": []
   },
   "outputs": [
    {
     "name": "stdout",
     "output_type": "stream",
     "text": [
      "The vocabulary is: ['', 'a', 'b', 'c', 'd', 'e', 'f', 'g', 'h', 'i', 'j', 'k', 'l', 'm', 'n', 'o', 'p', 'q', 'r', 's', 't', 'u', 'v', 'w', 'x', 'y', 'z', \"'\", '?', '!', '1', '2', '3', '4', '5', '6', '7', '8', '9', ' '] (size =40)\n"
     ]
    }
   ],
   "source": [
    "char_to_num = tf.keras.layers.StringLookup(vocabulary=vocab, oov_token=\"\")\n",
    "num_to_char = tf.keras.layers.StringLookup(\n",
    "    vocabulary=char_to_num.get_vocabulary(), oov_token=\"\", invert=True\n",
    ")\n",
    "\n",
    "print(\n",
    "    f\"The vocabulary is: {char_to_num.get_vocabulary()} \"\n",
    "    f\"(size ={char_to_num.vocabulary_size()})\"\n",
    ")"
   ]
  },
  {
   "cell_type": "code",
   "execution_count": 10,
   "id": "559f7420-6802-45fa-9ca0-b1ff209b461c",
   "metadata": {
    "tags": []
   },
   "outputs": [
    {
     "data": {
      "text/plain": [
       "['',\n",
       " 'a',\n",
       " 'b',\n",
       " 'c',\n",
       " 'd',\n",
       " 'e',\n",
       " 'f',\n",
       " 'g',\n",
       " 'h',\n",
       " 'i',\n",
       " 'j',\n",
       " 'k',\n",
       " 'l',\n",
       " 'm',\n",
       " 'n',\n",
       " 'o',\n",
       " 'p',\n",
       " 'q',\n",
       " 'r',\n",
       " 's',\n",
       " 't',\n",
       " 'u',\n",
       " 'v',\n",
       " 'w',\n",
       " 'x',\n",
       " 'y',\n",
       " 'z',\n",
       " \"'\",\n",
       " '?',\n",
       " '!',\n",
       " '1',\n",
       " '2',\n",
       " '3',\n",
       " '4',\n",
       " '5',\n",
       " '6',\n",
       " '7',\n",
       " '8',\n",
       " '9',\n",
       " ' ']"
      ]
     },
     "execution_count": 10,
     "metadata": {},
     "output_type": "execute_result"
    }
   ],
   "source": [
    "char_to_num.get_vocabulary()"
   ]
  },
  {
   "cell_type": "code",
   "execution_count": 11,
   "id": "797ff78b-b48f-4e14-bb62-8cd0ebf9501a",
   "metadata": {
    "tags": []
   },
   "outputs": [
    {
     "data": {
      "text/plain": [
       "<tf.Tensor: shape=(4,), dtype=int64, numpy=array([14,  9,  3, 11], dtype=int64)>"
      ]
     },
     "execution_count": 11,
     "metadata": {},
     "output_type": "execute_result"
    }
   ],
   "source": [
    "char_to_num(['n','i','c','k'])"
   ]
  },
  {
   "cell_type": "code",
   "execution_count": 12,
   "id": "8cd7f4f4-ae77-4509-a4f4-c723787ebad1",
   "metadata": {},
   "outputs": [
    {
     "data": {
      "text/plain": [
       "<tf.Tensor: shape=(4,), dtype=string, numpy=array([b'n', b'i', b'c', b'k'], dtype=object)>"
      ]
     },
     "execution_count": 12,
     "metadata": {},
     "output_type": "execute_result"
    }
   ],
   "source": [
    "num_to_char([14,  9,  3, 11])"
   ]
  },
  {
   "cell_type": "code",
   "execution_count": 13,
   "id": "9491bab5-6a3c-4f79-879a-8f9fbe73ae2e",
   "metadata": {
    "tags": []
   },
   "outputs": [],
   "source": [
    "def load_alignments(path:str) -> List[str]: \n",
    "    with open(path, 'r') as f: \n",
    "        lines = f.readlines() \n",
    "    tokens = []\n",
    "    for line in lines:\n",
    "        line = line.split()\n",
    "        if line[2] != 'sil': \n",
    "            tokens = [*tokens,' ',line[2]]\n",
    "    return char_to_num(tf.reshape(tf.strings.unicode_split(tokens, input_encoding='UTF-8'), (-1)))[1:]"
   ]
  },
  {
   "cell_type": "code",
   "execution_count": 14,
   "id": "dd01ca9f-77fb-4643-a2aa-47dd82c5d66b",
   "metadata": {
    "tags": []
   },
   "outputs": [],
   "source": [
    "def load_data(path: str): \n",
    "    path = bytes.decode(path.numpy())\n",
    "    #file_name = path.split('/')[-1].split('.')[0]\n",
    "    # File name splitting for windows\n",
    "    file_name = path.split('\\\\')[-1].split('.')[0]\n",
    "    video_path = os.path.join('data','s1',f'{file_name}.mpg')\n",
    "    alignment_path = os.path.join('data','alignments','s1',f'{file_name}.align')\n",
    "    frames = load_video(video_path) \n",
    "    alignments = load_alignments(alignment_path)\n",
    "    \n",
    "    return frames, alignments"
   ]
  },
  {
   "cell_type": "code",
   "execution_count": 15,
   "id": "8cb7cc58-31ae-4904-a805-1177a82717d2",
   "metadata": {
    "tags": []
   },
   "outputs": [],
   "source": [
    "test_path = '.\\\\data\\\\s1\\\\bbal6n.mpg'"
   ]
  },
  {
   "cell_type": "code",
   "execution_count": 16,
   "id": "76aa964f-0c84-490d-897a-d00e3966e2c9",
   "metadata": {},
   "outputs": [
    {
     "data": {
      "text/plain": [
       "'bbal6n'"
      ]
     },
     "execution_count": 16,
     "metadata": {},
     "output_type": "execute_result"
    }
   ],
   "source": [
    "tf.convert_to_tensor(test_path).numpy().decode('utf-8').split('\\\\')[-1].split('.')[0]"
   ]
  },
  {
   "cell_type": "code",
   "execution_count": 17,
   "id": "eb602c71-8560-4f9e-b26b-08202febb937",
   "metadata": {
    "scrolled": true,
    "tags": []
   },
   "outputs": [],
   "source": [
    "frames, alignments = load_data(tf.convert_to_tensor(test_path))"
   ]
  },
  {
   "cell_type": "code",
   "execution_count": 18,
   "id": "0e3184a1-6b02-4b4f-84a8-a0a65f951ea2",
   "metadata": {},
   "outputs": [
    {
     "data": {
      "text/plain": [
       "<matplotlib.image.AxesImage at 0x217438b3690>"
      ]
     },
     "execution_count": 18,
     "metadata": {},
     "output_type": "execute_result"
    },
    {
     "data": {
      "image/png": "[encoded data removed]",
      "text/plain": [
       "<Figure size 640x480 with 1 Axes>"
      ]
     },
     "metadata": {},
     "output_type": "display_data"
    }
   ],
   "source": [
    "plt.imshow(frames[40])"
   ]
  },
  {
   "cell_type": "code",
   "execution_count": 19,
   "id": "d7ec0833-d54b-4073-84cf-92d011c60ec1",
   "metadata": {},
   "outputs": [
    {
     "data": {
      "text/plain": [
       "<tf.Tensor: shape=(21,), dtype=int64, numpy=\n",
       "array([ 2,  9, 14, 39,  2, 12, 21,  5, 39,  1, 20, 39, 12, 39, 19,  9, 24,\n",
       "       39, 14, 15, 23], dtype=int64)>"
      ]
     },
     "execution_count": 19,
     "metadata": {},
     "output_type": "execute_result"
    }
   ],
   "source": [
    "alignments"
   ]
  },
  {
   "cell_type": "code",
   "execution_count": 20,
   "id": "fe1ad370-b287-4b46-85a2-7c45b0bd9b10",
   "metadata": {},
   "outputs": [
    {
     "data": {
      "text/plain": [
       "<tf.Tensor: shape=(), dtype=string, numpy=b'bin blue at l six now'>"
      ]
     },
     "execution_count": 20,
     "metadata": {},
     "output_type": "execute_result"
    }
   ],
   "source": [
    "tf.strings.reduce_join([bytes.decode(x) for x in num_to_char(alignments.numpy()).numpy()])"
   ]
  },
  {
   "cell_type": "code",
   "execution_count": 21,
   "id": "6871031a-b0ba-4c76-a852-f6329b0f2606",
   "metadata": {
    "tags": []
   },
   "outputs": [],
   "source": [
    "def mappable_function(path:str) ->List[str]:\n",
    "    result = tf.py_function(load_data, [path], (tf.float32, tf.int64))\n",
    "    return result"
   ]
  },
  {
   "cell_type": "markdown",
   "id": "c40a7eb4-0c3e-4eab-9291-5611cb68ce08",
   "metadata": {
    "tags": []
   },
   "source": [
    "# 2. Create Data Pipeline"
   ]
  },
  {
   "cell_type": "code",
   "execution_count": 22,
   "id": "7686355d-45aa-4c85-ad9c-053e6a9b4d81",
   "metadata": {
    "tags": []
   },
   "outputs": [],
   "source": [
    "from matplotlib import pyplot as plt"
   ]
  },
  {
   "cell_type": "code",
   "execution_count": 23,
   "id": "f066fea2-91b1-42ed-a67d-00566a1a53ff",
   "metadata": {
    "tags": []
   },
   "outputs": [],
   "source": [
    "data = tf.data.Dataset.list_files('./data/s1/*.mpg')\n",
    "data = data.shuffle(500, reshuffle_each_iteration=False)\n",
    "data = data.map(mappable_function)\n",
    "data = data.padded_batch(2, padded_shapes=([75,None,None,None],[40]))\n",
    "data = data.prefetch(tf.data.AUTOTUNE)\n",
    "# Added for split \n",
    "train = data.take(450)\n",
    "test = data.skip(450)"
   ]
  },
  {
   "cell_type": "code",
   "execution_count": 24,
   "id": "6b1365bd-7742-41d1-95d4-247021751c3a",
   "metadata": {},
   "outputs": [
    {
     "data": {
      "text/plain": [
       "50"
      ]
     },
     "execution_count": 24,
     "metadata": {},
     "output_type": "execute_result"
    }
   ],
   "source": [
    "len(test)"
   ]
  },
  {
   "cell_type": "code",
   "execution_count": 25,
   "id": "5281bde8-fdc8-4da1-bd55-5a7929a9e80c",
   "metadata": {},
   "outputs": [],
   "source": [
    "frames, alignments = data.as_numpy_iterator().next()"
   ]
  },
  {
   "cell_type": "code",
   "execution_count": 26,
   "id": "cbebe683-6afd-47fd-bba4-c83b4b13bb32",
   "metadata": {},
   "outputs": [
    {
     "data": {
      "text/plain": [
       "2"
      ]
     },
     "execution_count": 26,
     "metadata": {},
     "output_type": "execute_result"
    }
   ],
   "source": [
    "len(frames)"
   ]
  },
  {
   "cell_type": "code",
   "execution_count": 27,
   "id": "5cf2d676-93a9-434c-b3c7-bdcc2577b2e7",
   "metadata": {
    "tags": []
   },
   "outputs": [],
   "source": [
    "sample = data.as_numpy_iterator()"
   ]
  },
  {
   "cell_type": "code",
   "execution_count": 28,
   "id": "efa6cd46-7079-46c0-b45b-832f339f6cb0",
   "metadata": {
    "scrolled": true,
    "tags": []
   },
   "outputs": [
    {
     "data": {
      "text/plain": [
       "array([[[[[1.3907958 ],\n",
       "          [1.3907958 ],\n",
       "          [1.3907958 ],\n",
       "          ...,\n",
       "          [0.07726643],\n",
       "          [0.07726643],\n",
       "          [0.07726643]],\n",
       "\n",
       "         [[1.3907958 ],\n",
       "          [1.3907958 ],\n",
       "          [1.3907958 ],\n",
       "          ...,\n",
       "          [0.07726643],\n",
       "          [0.07726643],\n",
       "          [0.07726643]],\n",
       "\n",
       "         [[1.2362629 ],\n",
       "          [1.2362629 ],\n",
       "          [1.2362629 ],\n",
       "          ...,\n",
       "          [0.15453286],\n",
       "          [0.11589965],\n",
       "          [0.11589965]],\n",
       "\n",
       "         ...,\n",
       "\n",
       "         [[0.9271972 ],\n",
       "          [0.9271972 ],\n",
       "          [0.888564  ],\n",
       "          ...,\n",
       "          [9.696938  ],\n",
       "          [9.735571  ],\n",
       "          [9.735571  ]],\n",
       "\n",
       "         [[0.9271972 ],\n",
       "          [0.9271972 ],\n",
       "          [0.888564  ],\n",
       "          ...,\n",
       "          [9.619671  ],\n",
       "          [9.735571  ],\n",
       "          [9.696938  ]],\n",
       "\n",
       "         [[0.9271972 ],\n",
       "          [0.9271972 ],\n",
       "          [0.888564  ],\n",
       "          ...,\n",
       "          [9.619671  ],\n",
       "          [9.696938  ],\n",
       "          [9.581038  ]]],\n",
       "\n",
       "\n",
       "        [[[1.3135294 ],\n",
       "          [1.3135294 ],\n",
       "          [1.3135294 ],\n",
       "          ...,\n",
       "          [0.15453286],\n",
       "          [0.15453286],\n",
       "          [0.07726643]],\n",
       "\n",
       "         [[1.3135294 ],\n",
       "          [1.3135294 ],\n",
       "          [1.3135294 ],\n",
       "          ...,\n",
       "          [0.07726643],\n",
       "          [0.07726643],\n",
       "          [0.07726643]],\n",
       "\n",
       "         [[1.2748961 ],\n",
       "          [1.2362629 ],\n",
       "          [1.2362629 ],\n",
       "          ...,\n",
       "          [0.07726643],\n",
       "          [0.07726643],\n",
       "          [0.03863322]],\n",
       "\n",
       "         ...,\n",
       "\n",
       "         [[0.96583045],\n",
       "          [0.96583045],\n",
       "          [0.9271972 ],\n",
       "          ...,\n",
       "          [9.735571  ],\n",
       "          [9.812838  ],\n",
       "          [9.658304  ]],\n",
       "\n",
       "         [[0.9271972 ],\n",
       "          [0.9271972 ],\n",
       "          [0.888564  ],\n",
       "          ...,\n",
       "          [9.542405  ],\n",
       "          [9.812838  ],\n",
       "          [9.696938  ]],\n",
       "\n",
       "         [[0.9271972 ],\n",
       "          [0.9271972 ],\n",
       "          [0.888564  ],\n",
       "          ...,\n",
       "          [9.542405  ],\n",
       "          [9.735571  ],\n",
       "          [9.696938  ]]],\n",
       "\n",
       "\n",
       "        [[[1.3135294 ],\n",
       "          [1.3135294 ],\n",
       "          [1.3135294 ],\n",
       "          ...,\n",
       "          [0.15453286],\n",
       "          [0.15453286],\n",
       "          [0.07726643]],\n",
       "\n",
       "         [[1.3135294 ],\n",
       "          [1.3135294 ],\n",
       "          [1.3135294 ],\n",
       "          ...,\n",
       "          [0.07726643],\n",
       "          [0.07726643],\n",
       "          [0.07726643]],\n",
       "\n",
       "         [[1.2748961 ],\n",
       "          [1.2362629 ],\n",
       "          [1.2362629 ],\n",
       "          ...,\n",
       "          [0.07726643],\n",
       "          [0.07726643],\n",
       "          [0.03863322]],\n",
       "\n",
       "         ...,\n",
       "\n",
       "         [[0.96583045],\n",
       "          [0.9271972 ],\n",
       "          [0.9271972 ],\n",
       "          ...,\n",
       "          [9.658304  ],\n",
       "          [9.812838  ],\n",
       "          [9.658304  ]],\n",
       "\n",
       "         [[0.9271972 ],\n",
       "          [0.888564  ],\n",
       "          [0.888564  ],\n",
       "          ...,\n",
       "          [9.465138  ],\n",
       "          [9.812838  ],\n",
       "          [9.696938  ]],\n",
       "\n",
       "         [[0.9271972 ],\n",
       "          [0.888564  ],\n",
       "          [0.888564  ],\n",
       "          ...,\n",
       "          [9.465138  ],\n",
       "          [9.696938  ],\n",
       "          [9.696938  ]]],\n",
       "\n",
       "\n",
       "        ...,\n",
       "\n",
       "\n",
       "        [[[1.3135294 ],\n",
       "          [1.3135294 ],\n",
       "          [1.3907958 ],\n",
       "          ...,\n",
       "          [0.11589965],\n",
       "          [0.19316609],\n",
       "          [0.19316609]],\n",
       "\n",
       "         [[1.3135294 ],\n",
       "          [1.3135294 ],\n",
       "          [1.3907958 ],\n",
       "          ...,\n",
       "          [0.11589965],\n",
       "          [0.19316609],\n",
       "          [0.19316609]],\n",
       "\n",
       "         [[1.3135294 ],\n",
       "          [1.3135294 ],\n",
       "          [1.2748961 ],\n",
       "          ...,\n",
       "          [0.11589965],\n",
       "          [0.11589965],\n",
       "          [0.11589965]],\n",
       "\n",
       "         ...,\n",
       "\n",
       "         [[0.9271972 ],\n",
       "          [0.9271972 ],\n",
       "          [0.9271972 ],\n",
       "          ...,\n",
       "          [9.774204  ],\n",
       "          [9.774204  ],\n",
       "          [9.774204  ]],\n",
       "\n",
       "         [[0.9271972 ],\n",
       "          [0.9271972 ],\n",
       "          [0.9271972 ],\n",
       "          ...,\n",
       "          [9.658304  ],\n",
       "          [9.735571  ],\n",
       "          [9.774204  ]],\n",
       "\n",
       "         [[0.9271972 ],\n",
       "          [0.9271972 ],\n",
       "          [0.888564  ],\n",
       "          ...,\n",
       "          [9.658304  ],\n",
       "          [9.735571  ],\n",
       "          [9.735571  ]]],\n",
       "\n",
       "\n",
       "        [[[1.3521626 ],\n",
       "          [1.3521626 ],\n",
       "          [1.3135294 ],\n",
       "          ...,\n",
       "          [0.11589965],\n",
       "          [0.11589965],\n",
       "          [0.11589965]],\n",
       "\n",
       "         [[1.3521626 ],\n",
       "          [1.3521626 ],\n",
       "          [1.3135294 ],\n",
       "          ...,\n",
       "          [0.11589965],\n",
       "          [0.11589965],\n",
       "          [0.11589965]],\n",
       "\n",
       "         [[1.3135294 ],\n",
       "          [1.3135294 ],\n",
       "          [1.2748961 ],\n",
       "          ...,\n",
       "          [0.11589965],\n",
       "          [0.11589965],\n",
       "          [0.11589965]],\n",
       "\n",
       "         ...,\n",
       "\n",
       "         [[0.9271972 ],\n",
       "          [0.9271972 ],\n",
       "          [0.9271972 ],\n",
       "          ...,\n",
       "          [9.658304  ],\n",
       "          [9.658304  ],\n",
       "          [9.774204  ]],\n",
       "\n",
       "         [[0.9271972 ],\n",
       "          [0.9271972 ],\n",
       "          [0.9271972 ],\n",
       "          ...,\n",
       "          [9.581038  ],\n",
       "          [9.581038  ],\n",
       "          [9.735571  ]],\n",
       "\n",
       "         [[0.9271972 ],\n",
       "          [0.9271972 ],\n",
       "          [0.888564  ],\n",
       "          ...,\n",
       "          [9.581038  ],\n",
       "          [9.581038  ],\n",
       "          [9.696938  ]]],\n",
       "\n",
       "\n",
       "        [[[1.3521626 ],\n",
       "          [1.3521626 ],\n",
       "          [1.3135294 ],\n",
       "          ...,\n",
       "          [0.15453286],\n",
       "          [0.11589965],\n",
       "          [0.11589965]],\n",
       "\n",
       "         [[1.3521626 ],\n",
       "          [1.3521626 ],\n",
       "          [1.3135294 ],\n",
       "          ...,\n",
       "          [0.15453286],\n",
       "          [0.11589965],\n",
       "          [0.11589965]],\n",
       "\n",
       "         [[1.3135294 ],\n",
       "          [1.3135294 ],\n",
       "          [1.2748961 ],\n",
       "          ...,\n",
       "          [0.11589965],\n",
       "          [0.07726643],\n",
       "          [0.07726643]],\n",
       "\n",
       "         ...,\n",
       "\n",
       "         [[0.96583045],\n",
       "          [0.96583045],\n",
       "          [0.96583045],\n",
       "          ...,\n",
       "          [9.658304  ],\n",
       "          [9.658304  ],\n",
       "          [9.658304  ]],\n",
       "\n",
       "         [[0.96583045],\n",
       "          [0.96583045],\n",
       "          [0.96583045],\n",
       "          ...,\n",
       "          [9.581038  ],\n",
       "          [9.581038  ],\n",
       "          [9.696938  ]],\n",
       "\n",
       "         [[0.96583045],\n",
       "          [0.96583045],\n",
       "          [0.9271972 ],\n",
       "          ...,\n",
       "          [9.581038  ],\n",
       "          [9.619671  ],\n",
       "          [9.696938  ]]]],\n",
       "\n",
       "\n",
       "\n",
       "       [[[[1.6650941 ],\n",
       "          [1.5540879 ],\n",
       "          [1.5170858 ],\n",
       "          ...,\n",
       "          [0.37002093],\n",
       "          [0.3330188 ],\n",
       "          [0.3330188 ]],\n",
       "\n",
       "         [[1.7020962 ],\n",
       "          [1.628092  ],\n",
       "          [1.5540879 ],\n",
       "          ...,\n",
       "          [0.37002093],\n",
       "          [0.3330188 ],\n",
       "          [0.3330188 ]],\n",
       "\n",
       "         [[1.4800837 ],\n",
       "          [1.4800837 ],\n",
       "          [1.4800837 ],\n",
       "          ...,\n",
       "          [0.3330188 ],\n",
       "          [0.3330188 ],\n",
       "          [0.3330188 ]],\n",
       "\n",
       "         ...,\n",
       "\n",
       "         [[1.1100627 ],\n",
       "          [1.0730606 ],\n",
       "          [1.0730606 ],\n",
       "          ...,\n",
       "          [0.07400418],\n",
       "          [0.07400418],\n",
       "          [0.07400418]],\n",
       "\n",
       "         [[1.0730606 ],\n",
       "          [1.0730606 ],\n",
       "          [1.0730606 ],\n",
       "          ...,\n",
       "          [0.07400418],\n",
       "          [0.07400418],\n",
       "          [0.07400418]],\n",
       "\n",
       "         [[1.0730606 ],\n",
       "          [1.0730606 ],\n",
       "          [1.0730606 ],\n",
       "          ...,\n",
       "          [0.07400418],\n",
       "          [0.07400418],\n",
       "          [0.07400418]]],\n",
       "\n",
       "\n",
       "        [[[1.628092  ],\n",
       "          [1.59109   ],\n",
       "          [1.5170858 ],\n",
       "          ...,\n",
       "          [0.407023  ],\n",
       "          [0.3330188 ],\n",
       "          [0.3330188 ]],\n",
       "\n",
       "         [[1.628092  ],\n",
       "          [1.6650941 ],\n",
       "          [1.4800837 ],\n",
       "          ...,\n",
       "          [0.407023  ],\n",
       "          [0.3330188 ],\n",
       "          [0.3330188 ]],\n",
       "\n",
       "         [[1.5170858 ],\n",
       "          [1.5170858 ],\n",
       "          [1.5170858 ],\n",
       "          ...,\n",
       "          [0.37002093],\n",
       "          [0.37002093],\n",
       "          [0.37002093]],\n",
       "\n",
       "         ...,\n",
       "\n",
       "         [[1.1100627 ],\n",
       "          [1.0730606 ],\n",
       "          [1.0730606 ],\n",
       "          ...,\n",
       "          [0.07400418],\n",
       "          [0.07400418],\n",
       "          [0.07400418]],\n",
       "\n",
       "         [[1.0730606 ],\n",
       "          [1.0730606 ],\n",
       "          [1.0730606 ],\n",
       "          ...,\n",
       "          [0.03700209],\n",
       "          [0.03700209],\n",
       "          [0.03700209]],\n",
       "\n",
       "         [[1.0730606 ],\n",
       "          [1.0730606 ],\n",
       "          [1.0730606 ],\n",
       "          ...,\n",
       "          [0.03700209],\n",
       "          [0.03700209],\n",
       "          [0.03700209]]],\n",
       "\n",
       "\n",
       "        [[[1.5540879 ],\n",
       "          [1.5170858 ],\n",
       "          [1.4800837 ],\n",
       "          ...,\n",
       "          [0.407023  ],\n",
       "          [0.29601672],\n",
       "          [0.29601672]],\n",
       "\n",
       "         [[1.5540879 ],\n",
       "          [1.5540879 ],\n",
       "          [1.4800837 ],\n",
       "          ...,\n",
       "          [0.407023  ],\n",
       "          [0.29601672],\n",
       "          [0.29601672]],\n",
       "\n",
       "         [[1.5540879 ],\n",
       "          [1.5540879 ],\n",
       "          [1.5170858 ],\n",
       "          ...,\n",
       "          [0.37002093],\n",
       "          [0.37002093],\n",
       "          [0.37002093]],\n",
       "\n",
       "         ...,\n",
       "\n",
       "         [[1.1100627 ],\n",
       "          [1.0730606 ],\n",
       "          [1.0730606 ],\n",
       "          ...,\n",
       "          [0.07400418],\n",
       "          [0.07400418],\n",
       "          [0.07400418]],\n",
       "\n",
       "         [[1.0730606 ],\n",
       "          [1.0730606 ],\n",
       "          [1.0730606 ],\n",
       "          ...,\n",
       "          [0.07400418],\n",
       "          [0.03700209],\n",
       "          [0.03700209]],\n",
       "\n",
       "         [[1.0730606 ],\n",
       "          [1.0730606 ],\n",
       "          [1.0730606 ],\n",
       "          ...,\n",
       "          [0.07400418],\n",
       "          [0.03700209],\n",
       "          [0.03700209]]],\n",
       "\n",
       "\n",
       "        ...,\n",
       "\n",
       "\n",
       "        [[[1.3690774 ],\n",
       "          [1.5170858 ],\n",
       "          [1.5170858 ],\n",
       "          ...,\n",
       "          [0.37002093],\n",
       "          [0.29601672],\n",
       "          [0.29601672]],\n",
       "\n",
       "         [[1.4430816 ],\n",
       "          [1.4430816 ],\n",
       "          [1.5170858 ],\n",
       "          ...,\n",
       "          [0.37002093],\n",
       "          [0.29601672],\n",
       "          [0.29601672]],\n",
       "\n",
       "         [[1.5170858 ],\n",
       "          [1.5170858 ],\n",
       "          [1.4800837 ],\n",
       "          ...,\n",
       "          [0.29601672],\n",
       "          [0.29601672],\n",
       "          [0.29601672]],\n",
       "\n",
       "         ...,\n",
       "\n",
       "         [[0.99905646],\n",
       "          [0.99905646],\n",
       "          [0.99905646],\n",
       "          ...,\n",
       "          [0.07400418],\n",
       "          [0.07400418],\n",
       "          [0.07400418]],\n",
       "\n",
       "         [[0.99905646],\n",
       "          [0.99905646],\n",
       "          [0.99905646],\n",
       "          ...,\n",
       "          [0.07400418],\n",
       "          [0.07400418],\n",
       "          [0.07400418]],\n",
       "\n",
       "         [[0.99905646],\n",
       "          [0.99905646],\n",
       "          [0.99905646],\n",
       "          ...,\n",
       "          [0.07400418],\n",
       "          [0.07400418],\n",
       "          [0.03700209]]],\n",
       "\n",
       "\n",
       "        [[[1.4060795 ],\n",
       "          [1.5170858 ],\n",
       "          [1.4060795 ],\n",
       "          ...,\n",
       "          [0.37002093],\n",
       "          [0.3330188 ],\n",
       "          [0.3330188 ]],\n",
       "\n",
       "         [[1.4060795 ],\n",
       "          [1.4800837 ],\n",
       "          [1.5170858 ],\n",
       "          ...,\n",
       "          [0.37002093],\n",
       "          [0.3330188 ],\n",
       "          [0.3330188 ]],\n",
       "\n",
       "         [[1.5170858 ],\n",
       "          [1.5170858 ],\n",
       "          [1.4800837 ],\n",
       "          ...,\n",
       "          [0.3330188 ],\n",
       "          [0.29601672],\n",
       "          [0.29601672]],\n",
       "\n",
       "         ...,\n",
       "\n",
       "         [[0.99905646],\n",
       "          [0.99905646],\n",
       "          [0.99905646],\n",
       "          ...,\n",
       "          [0.07400418],\n",
       "          [0.07400418],\n",
       "          [0.07400418]],\n",
       "\n",
       "         [[0.99905646],\n",
       "          [0.99905646],\n",
       "          [0.99905646],\n",
       "          ...,\n",
       "          [0.07400418],\n",
       "          [0.07400418],\n",
       "          [0.07400418]],\n",
       "\n",
       "         [[0.99905646],\n",
       "          [0.99905646],\n",
       "          [0.99905646],\n",
       "          ...,\n",
       "          [0.07400418],\n",
       "          [0.07400418],\n",
       "          [0.03700209]]],\n",
       "\n",
       "\n",
       "        [[[1.4060795 ],\n",
       "          [1.5170858 ],\n",
       "          [1.4060795 ],\n",
       "          ...,\n",
       "          [0.37002093],\n",
       "          [0.3330188 ],\n",
       "          [0.3330188 ]],\n",
       "\n",
       "         [[1.4800837 ],\n",
       "          [1.4800837 ],\n",
       "          [1.5170858 ],\n",
       "          ...,\n",
       "          [0.37002093],\n",
       "          [0.3330188 ],\n",
       "          [0.3330188 ]],\n",
       "\n",
       "         [[1.4800837 ],\n",
       "          [1.4800837 ],\n",
       "          [1.4060795 ],\n",
       "          ...,\n",
       "          [0.3330188 ],\n",
       "          [0.29601672],\n",
       "          [0.29601672]],\n",
       "\n",
       "         ...,\n",
       "\n",
       "         [[1.0360585 ],\n",
       "          [1.0360585 ],\n",
       "          [1.0360585 ],\n",
       "          ...,\n",
       "          [0.07400418],\n",
       "          [0.03700209],\n",
       "          [0.03700209]],\n",
       "\n",
       "         [[1.0360585 ],\n",
       "          [1.0360585 ],\n",
       "          [1.0360585 ],\n",
       "          ...,\n",
       "          [0.03700209],\n",
       "          [0.03700209],\n",
       "          [0.03700209]],\n",
       "\n",
       "         [[1.0360585 ],\n",
       "          [1.0360585 ],\n",
       "          [1.0360585 ],\n",
       "          ...,\n",
       "          [0.03700209],\n",
       "          [0.03700209],\n",
       "          [0.03700209]]]]], dtype=float32)"
      ]
     },
     "execution_count": 28,
     "metadata": {},
     "output_type": "execute_result"
    }
   ],
   "source": [
    "val = sample.next();val[0]"
   ]
  },
  {
   "cell_type": "code",
   "execution_count": 29,
   "id": "acf5eb4f-a0da-4a9a-bf24-af13e9cc2fbe",
   "metadata": {
    "tags": []
   },
   "outputs": [],
   "source": [
    "# imageio.mimsave('./animation.gif', val[0][0], fps=10)"
   ]
  },
  {
   "cell_type": "code",
   "execution_count": 30,
   "id": "c33a87a2-d5e0-4ec9-b174-73ebf41bf03a",
   "metadata": {
    "tags": []
   },
   "outputs": [
    {
     "data": {
      "text/plain": [
       "<matplotlib.image.AxesImage at 0x21743953190>"
      ]
     },
     "execution_count": 30,
     "metadata": {},
     "output_type": "execute_result"
    },
    {
     "data": {
      "image/png": "[encoded data removed]",
      "text/plain": [
       "<Figure size 640x480 with 1 Axes>"
      ]
     },
     "metadata": {},
     "output_type": "display_data"
    }
   ],
   "source": [
    "# 0:videos, 0: 1st video out of the batch,  0: return the first frame in the video \n",
    "plt.imshow(val[0][0][25])"
   ]
  },
  {
   "cell_type": "code",
   "execution_count": 31,
   "id": "84593332-133c-4205-b7a6-8e235d5e2b3b",
   "metadata": {
    "tags": []
   },
   "outputs": [
    {
     "data": {
      "text/plain": [
       "<tf.Tensor: shape=(), dtype=string, numpy=b'lay white with f nine again'>"
      ]
     },
     "execution_count": 31,
     "metadata": {},
     "output_type": "execute_result"
    }
   ],
   "source": [
    "tf.strings.reduce_join([num_to_char(word) for word in val[1][0]])"
   ]
  },
  {
   "cell_type": "markdown",
   "id": "0f47733c-83bc-465c-b118-b198b492ad37",
   "metadata": {
    "tags": []
   },
   "source": [
    "# 3. Design the Deep Neural Network"
   ]
  },
  {
   "cell_type": "code",
   "execution_count": 32,
   "id": "d8e9a497-191b-4842-afbd-26f5e13c43ba",
   "metadata": {
    "tags": []
   },
   "outputs": [],
   "source": [
    "from tensorflow.keras.models import Sequential \n",
    "from tensorflow.keras.layers import Conv3D, LSTM, Dense, Dropout, Bidirectional, MaxPool3D, Activation, Reshape, SpatialDropout3D, BatchNormalization, TimeDistributed, Flatten\n",
    "from tensorflow.keras.optimizers import Adam\n",
    "from tensorflow.keras.callbacks import ModelCheckpoint, LearningRateScheduler"
   ]
  },
  {
   "cell_type": "code",
   "execution_count": 33,
   "id": "3f753ed2-70b9-4236-8c1c-08ca065dc8bf",
   "metadata": {},
   "outputs": [
    {
     "data": {
      "text/plain": [
       "(75, 46, 140, 1)"
      ]
     },
     "execution_count": 33,
     "metadata": {},
     "output_type": "execute_result"
    }
   ],
   "source": [
    "data.as_numpy_iterator().next()[0][0].shape"
   ]
  },
  {
   "cell_type": "code",
   "execution_count": 34,
   "id": "f9171056-a352-491a-9ed9-92b28ced268e",
   "metadata": {
    "tags": []
   },
   "outputs": [],
   "source": [
    "model = Sequential()\n",
    "model.add(Conv3D(128, 3, input_shape=(75,46,140,1), padding='same'))\n",
    "model.add(Activation('relu'))\n",
    "model.add(MaxPool3D((1,2,2)))\n",
    "\n",
    "model.add(Conv3D(256, 3, padding='same'))\n",
    "model.add(Activation('relu'))\n",
    "model.add(MaxPool3D((1,2,2)))\n",
    "\n",
    "model.add(Conv3D(75, 3, padding='same'))\n",
    "model.add(Activation('relu'))\n",
    "model.add(MaxPool3D((1,2,2)))\n",
    "\n",
    "model.add(TimeDistributed(Flatten()))\n",
    "\n",
    "model.add(Bidirectional(LSTM(128, return_sequences=True)))\n",
    "model.add(Dropout(.5))\n",
    "\n",
    "model.add(Bidirectional(LSTM(128, return_sequences=True)))\n",
    "model.add(Dropout(.5))\n",
    "\n",
    "model.add(Dense(char_to_num.vocabulary_size()+1, kernel_initializer='he_normal', activation='softmax'))"
   ]
  },
  {
   "cell_type": "code",
   "execution_count": 35,
   "id": "78851825-2bcd-42a9-b7f2-28bb5a6bf43a",
   "metadata": {
    "collapsed": true,
    "jupyter": {
     "outputs_hidden": true
    },
    "tags": []
   },
   "outputs": [
    {
     "name": "stdout",
     "output_type": "stream",
     "text": [
      "Model: \"sequential\"\n",
      "_________________________________________________________________\n",
      " Layer (type)                Output Shape              Param #   \n",
      "=================================================================\n",
      " conv3d (Conv3D)             (None, 75, 46, 140, 128)  3584      \n",
      "                                                                 \n",
      " activation (Activation)     (None, 75, 46, 140, 128)  0         \n",
      "                                                                 \n",
      " max_pooling3d (MaxPooling3D  (None, 75, 23, 70, 128)  0         \n",
      " )                                                               \n",
      "                                                                 \n",
      " conv3d_1 (Conv3D)           (None, 75, 23, 70, 256)   884992    \n",
      "                                                                 \n",
      " activation_1 (Activation)   (None, 75, 23, 70, 256)   0         \n",
      "                                                                 \n",
      " max_pooling3d_1 (MaxPooling  (None, 75, 11, 35, 256)  0         \n",
      " 3D)                                                             \n",
      "                                                                 \n",
      " conv3d_2 (Conv3D)           (None, 75, 11, 35, 75)    518475    \n",
      "                                                                 \n",
      " activation_2 (Activation)   (None, 75, 11, 35, 75)    0         \n",
      "                                                                 \n",
      " max_pooling3d_2 (MaxPooling  (None, 75, 5, 17, 75)    0         \n",
      " 3D)                                                             \n",
      "                                                                 \n",
      " time_distributed (TimeDistr  (None, 75, 6375)         0         \n",
      " ibuted)                                                         \n",
      "                                                                 \n",
      " bidirectional (Bidirectiona  (None, 75, 256)          6660096   \n",
      " l)                                                              \n",
      "                                                                 \n",
      " dropout (Dropout)           (None, 75, 256)           0         \n",
      "                                                                 \n",
      " bidirectional_1 (Bidirectio  (None, 75, 256)          394240    \n",
      " nal)                                                            \n",
      "                                                                 \n",
      " dropout_1 (Dropout)         (None, 75, 256)           0         \n",
      "                                                                 \n",
      " dense (Dense)               (None, 75, 41)            10537     \n",
      "                                                                 \n",
      "=================================================================\n",
      "Total params: 8,471,924\n",
      "Trainable params: 8,471,924\n",
      "Non-trainable params: 0\n",
      "_________________________________________________________________\n"
     ]
    }
   ],
   "source": [
    "model.summary()"
   ]
  },
  {
   "cell_type": "code",
   "execution_count": 36,
   "id": "f4b4798c-a65a-4c47-9e2a-3b09dc98d320",
   "metadata": {},
   "outputs": [
    {
     "data": {
      "text/plain": [
       "6375"
      ]
     },
     "execution_count": 36,
     "metadata": {},
     "output_type": "execute_result"
    }
   ],
   "source": [
    "5*17*75"
   ]
  },
  {
   "cell_type": "code",
   "execution_count": 37,
   "id": "e5c2eae0-c359-41a4-97a0-75c44dccb7d1",
   "metadata": {
    "tags": []
   },
   "outputs": [
    {
     "name": "stdout",
     "output_type": "stream",
     "text": [
      "1/1 [==============================] - 4s 4s/step\n"
     ]
    }
   ],
   "source": [
    "yhat = model.predict(val[0])"
   ]
  },
  {
   "cell_type": "code",
   "execution_count": 38,
   "id": "ffdc7319-0d69-4f7e-a6d4-ce72deb81c0b",
   "metadata": {},
   "outputs": [
    {
     "data": {
      "text/plain": [
       "<tf.Tensor: shape=(), dtype=string, numpy=b'sssssssssssssssssssssssssssssssssssssssssssssssssssssssssssssssssssssskkkkk'>"
      ]
     },
     "execution_count": 38,
     "metadata": {},
     "output_type": "execute_result"
    }
   ],
   "source": [
    "tf.strings.reduce_join([num_to_char(x) for x in tf.argmax(yhat[0],axis=1)])"
   ]
  },
  {
   "cell_type": "code",
   "execution_count": 39,
   "id": "6ed47531-8317-4255-9a12-b757642258e6",
   "metadata": {
    "tags": []
   },
   "outputs": [
    {
     "data": {
      "text/plain": [
       "<tf.Tensor: shape=(), dtype=string, numpy=b'sssssssssssssssssssssssssssssssssssssssssssssssssssssssssssssssssssssskkkkk'>"
      ]
     },
     "execution_count": 39,
     "metadata": {},
     "output_type": "execute_result"
    }
   ],
   "source": [
    "tf.strings.reduce_join([num_to_char(tf.argmax(x)) for x in yhat[0]])"
   ]
  },
  {
   "cell_type": "code",
   "execution_count": 40,
   "id": "7c37b9b9-5298-4038-9c33-5031d1b457f0",
   "metadata": {
    "tags": []
   },
   "outputs": [
    {
     "data": {
      "text/plain": [
       "(None, 75, 46, 140, 1)"
      ]
     },
     "execution_count": 40,
     "metadata": {},
     "output_type": "execute_result"
    }
   ],
   "source": [
    "model.input_shape"
   ]
  },
  {
   "cell_type": "code",
   "execution_count": 41,
   "id": "98b316a4-5322-4782-8e36-4b3c1a696d85",
   "metadata": {
    "tags": []
   },
   "outputs": [
    {
     "data": {
      "text/plain": [
       "(None, 75, 41)"
      ]
     },
     "execution_count": 41,
     "metadata": {},
     "output_type": "execute_result"
    }
   ],
   "source": [
    "model.output_shape"
   ]
  },
  {
   "cell_type": "markdown",
   "id": "2ec02176-5c26-46c3-aff7-8352e6563c7d",
   "metadata": {
    "tags": []
   },
   "source": [
    "# 4. Setup Training Options and Train"
   ]
  },
  {
   "cell_type": "code",
   "execution_count": 42,
   "id": "ab015fd0-7fb4-4d5d-9fa2-30a05dbd515a",
   "metadata": {
    "tags": []
   },
   "outputs": [],
   "source": [
    "def scheduler(epoch, lr):\n",
    "    if epoch < 30:\n",
    "        return lr\n",
    "    else:\n",
    "        return lr * tf.math.exp(-0.1)"
   ]
  },
  {
   "cell_type": "code",
   "execution_count": 43,
   "id": "c564d5c9-db54-4e88-b311-9aeab7fb3e69",
   "metadata": {
    "tags": []
   },
   "outputs": [],
   "source": [
    "def CTCLoss(y_true, y_pred):\n",
    "    batch_len = tf.cast(tf.shape(y_true)[0], dtype=\"int64\")\n",
    "    input_length = tf.cast(tf.shape(y_pred)[1], dtype=\"int64\")\n",
    "    label_length = tf.cast(tf.shape(y_true)[1], dtype=\"int64\")\n",
    "\n",
    "    input_length = input_length * tf.ones(shape=(batch_len, 1), dtype=\"int64\")\n",
    "    label_length = label_length * tf.ones(shape=(batch_len, 1), dtype=\"int64\")\n",
    "\n",
    "    loss = tf.keras.backend.ctc_batch_cost(y_true, y_pred, input_length, label_length)\n",
    "    return loss"
   ]
  },
  {
   "cell_type": "code",
   "execution_count": 44,
   "id": "a26dc3fc-a19c-4378-bd8c-e2b597a1d15c",
   "metadata": {
    "tags": []
   },
   "outputs": [],
   "source": [
    "class ProduceExample(tf.keras.callbacks.Callback): \n",
    "    def __init__(self, dataset) -> None: \n",
    "        self.dataset = dataset.as_numpy_iterator()\n",
    "    \n",
    "    def on_epoch_end(self, epoch, logs=None) -> None:\n",
    "        data = self.dataset.next()\n",
    "        yhat = self.model.predict(data[0])\n",
    "        decoded = tf.keras.backend.ctc_decode(yhat, [75,75], greedy=False)[0][0].numpy()\n",
    "        for x in range(len(yhat)):           \n",
    "            print('Original:', tf.strings.reduce_join(num_to_char(data[1][x])).numpy().decode('utf-8'))\n",
    "            print('Prediction:', tf.strings.reduce_join(num_to_char(decoded[x])).numpy().decode('utf-8'))\n",
    "            print('~'*100)"
   ]
  },
  {
   "cell_type": "code",
   "execution_count": 47,
   "id": "04be90d8-2482-46f9-b513-d5f4f8001c7e",
   "metadata": {
    "tags": []
   },
   "outputs": [],
   "source": [
    "epochs = 50\n",
    "learning_rate = 0.01\n",
    "model.compile(optimizer = tf.keras.optimizers.Adam(learning_rate), loss=CTCLoss)"
   ]
  },
  {
   "cell_type": "code",
   "execution_count": 48,
   "id": "eab49367-3f1e-4464-ae76-dbd07549d97e",
   "metadata": {
    "tags": []
   },
   "outputs": [],
   "source": [
    "checkpoint_callback = ModelCheckpoint(os.path.join('models','checkpoint'), monitor='loss', save_weights_only=True) "
   ]
  },
  {
   "cell_type": "code",
   "execution_count": 49,
   "id": "e085a632-d464-46ef-8777-959cad4adb2c",
   "metadata": {
    "tags": []
   },
   "outputs": [],
   "source": [
    "schedule_callback = LearningRateScheduler(scheduler)"
   ]
  },
  {
   "cell_type": "code",
   "execution_count": 50,
   "id": "48eca991-90ab-4592-8a79-b50e9ca015b6",
   "metadata": {
    "tags": []
   },
   "outputs": [],
   "source": [
    "example_callback = ProduceExample(test)"
   ]
  },
  {
   "cell_type": "code",
   "execution_count": null,
   "id": "8ffba483-aa61-4bbe-a15f-a73e1ddf097c",
   "metadata": {
    "tags": []
   },
   "outputs": [
    {
     "name": "stdout",
     "output_type": "stream",
     "text": [
      "Epoch 1/100\n",
      "  3/450 [..............................] - ETA: 7:07:03 - loss: 193.9885"
     ]
    }
   ],
   "source": [
    "# model.fit(train, validation_data=test, epochs=100, callbacks=[checkpoint_callback, schedule_callback, example_callback])"
   ]
  },
  {
   "cell_type": "markdown",
   "id": "fa8ee94b-89f7-4733-8a0c-a86f86ff590a",
   "metadata": {
    "tags": []
   },
   "source": [
    "# 5. Make a Prediction "
   ]
  },
  {
   "cell_type": "code",
   "execution_count": null,
   "id": "01fa7204-ce0e-49a8-8dbd-14fe5dfead40",
   "metadata": {
    "tags": []
   },
   "outputs": [],
   "source": [
    "# url = 'https://drive.google.com/uc?id=1vWscXs4Vt0a_1IH1-ct2TCgXAZT-N3_Y'\n",
    "# output = 'checkpoints.zip'\n",
    "# gdown.download(url, output, quiet=False)\n",
    "# gdown.extractall('checkpoints.zip', 'models')"
   ]
  },
  {
   "cell_type": "code",
   "execution_count": 53,
   "id": "247f664d-3c87-4e96-946e-930dad0e1c2c",
   "metadata": {
    "tags": []
   },
   "outputs": [
    {
     "ename": "ValueError",
     "evalue": "You are trying to restore a checkpoint from a legacy Keras optimizer into a v2.11+ Optimizer, which can cause errors. Please update the optimizer referenced in your code to be an instance of `tf.keras.optimizers.legacy.Optimizer`, e.g.: `tf.keras.optimizers.legacy.Adam`.",
     "output_type": "error",
     "traceback": [
      "\u001b[1;31m---------------------------------------------------------------------------\u001b[0m",
      "\u001b[1;31mValueError\u001b[0m                                Traceback (most recent call last)",
      "Cell \u001b[1;32mIn[53], line 1\u001b[0m\n\u001b[1;32m----> 1\u001b[0m \u001b[43mmodel\u001b[49m\u001b[38;5;241;43m.\u001b[39;49m\u001b[43mload_weights\u001b[49m\u001b[43m(\u001b[49m\u001b[38;5;124;43m'\u001b[39;49m\u001b[38;5;124;43mmodels/checkpoint\u001b[39;49m\u001b[38;5;124;43m'\u001b[39;49m\u001b[43m)\u001b[49m\n",
      "File \u001b[1;32m~\\AppData\\Roaming\\Python\\Python311\\site-packages\\keras\\utils\\traceback_utils.py:70\u001b[0m, in \u001b[0;36mfilter_traceback.<locals>.error_handler\u001b[1;34m(*args, **kwargs)\u001b[0m\n\u001b[0;32m     67\u001b[0m     filtered_tb \u001b[38;5;241m=\u001b[39m _process_traceback_frames(e\u001b[38;5;241m.\u001b[39m__traceback__)\n\u001b[0;32m     68\u001b[0m     \u001b[38;5;66;03m# To get the full stack trace, call:\u001b[39;00m\n\u001b[0;32m     69\u001b[0m     \u001b[38;5;66;03m# `tf.debugging.disable_traceback_filtering()`\u001b[39;00m\n\u001b[1;32m---> 70\u001b[0m     \u001b[38;5;28;01mraise\u001b[39;00m e\u001b[38;5;241m.\u001b[39mwith_traceback(filtered_tb) \u001b[38;5;28;01mfrom\u001b[39;00m \u001b[38;5;28;01mNone\u001b[39;00m\n\u001b[0;32m     71\u001b[0m \u001b[38;5;28;01mfinally\u001b[39;00m:\n\u001b[0;32m     72\u001b[0m     \u001b[38;5;28;01mdel\u001b[39;00m filtered_tb\n",
      "File \u001b[1;32m~\\AppData\\Roaming\\Python\\Python311\\site-packages\\keras\\optimizers\\optimizer.py:147\u001b[0m, in \u001b[0;36m_BaseOptimizer._create_or_restore_slot_variable\u001b[1;34m(self, **kwargs)\u001b[0m\n\u001b[0;32m    146\u001b[0m \u001b[38;5;28;01mdef\u001b[39;00m \u001b[38;5;21m_create_or_restore_slot_variable\u001b[39m(\u001b[38;5;28mself\u001b[39m, \u001b[38;5;241m*\u001b[39m\u001b[38;5;241m*\u001b[39mkwargs):\n\u001b[1;32m--> 147\u001b[0m     \u001b[38;5;28;01mraise\u001b[39;00m \u001b[38;5;167;01mValueError\u001b[39;00m(\n\u001b[0;32m    148\u001b[0m         \u001b[38;5;124m\"\u001b[39m\u001b[38;5;124mYou are trying to restore a checkpoint from a legacy Keras \u001b[39m\u001b[38;5;124m\"\u001b[39m\n\u001b[0;32m    149\u001b[0m         \u001b[38;5;124m\"\u001b[39m\u001b[38;5;124moptimizer into a v2.11+ Optimizer, which can cause \u001b[39m\u001b[38;5;124m\"\u001b[39m\n\u001b[0;32m    150\u001b[0m         \u001b[38;5;124m\"\u001b[39m\u001b[38;5;124merrors. Please update the optimizer referenced in your code \u001b[39m\u001b[38;5;124m\"\u001b[39m\n\u001b[0;32m    151\u001b[0m         \u001b[38;5;124m\"\u001b[39m\u001b[38;5;124mto be an instance of \u001b[39m\u001b[38;5;124m\"\u001b[39m\n\u001b[0;32m    152\u001b[0m         \u001b[38;5;124m\"\u001b[39m\u001b[38;5;124m`tf.keras.optimizers.legacy.Optimizer`, e.g.: \u001b[39m\u001b[38;5;124m\"\u001b[39m\n\u001b[0;32m    153\u001b[0m         \u001b[38;5;124mf\u001b[39m\u001b[38;5;124m\"\u001b[39m\u001b[38;5;124m`tf.keras.optimizers.legacy.\u001b[39m\u001b[38;5;132;01m{\u001b[39;00m\u001b[38;5;28mself\u001b[39m\u001b[38;5;241m.\u001b[39m\u001b[38;5;18m__class__\u001b[39m\u001b[38;5;241m.\u001b[39m\u001b[38;5;18m__name__\u001b[39m\u001b[38;5;132;01m}\u001b[39;00m\u001b[38;5;124m`.\u001b[39m\u001b[38;5;124m\"\u001b[39m\n\u001b[0;32m    154\u001b[0m     )\n",
      "\u001b[1;31mValueError\u001b[0m: You are trying to restore a checkpoint from a legacy Keras optimizer into a v2.11+ Optimizer, which can cause errors. Please update the optimizer referenced in your code to be an instance of `tf.keras.optimizers.legacy.Optimizer`, e.g.: `tf.keras.optimizers.legacy.Adam`."
     ]
    }
   ],
   "source": [
    "model.load_weights('models/checkpoint')"
   ]
  },
  {
   "cell_type": "code",
   "execution_count": null,
   "id": "7f8d689f-b7bb-443c-9b88-e40c1d800828",
   "metadata": {
    "tags": []
   },
   "outputs": [],
   "source": [
    "test_data = test.as_numpy_iterator()"
   ]
  },
  {
   "cell_type": "code",
   "execution_count": null,
   "id": "38546dc2-bee9-4837-864b-8a884df40ad7",
   "metadata": {
    "tags": []
   },
   "outputs": [],
   "source": [
    "sample = test_data.next()"
   ]
  },
  {
   "cell_type": "code",
   "execution_count": null,
   "id": "a43621f0-229d-4c0d-9554-9c3a3da9c61a",
   "metadata": {
    "tags": []
   },
   "outputs": [],
   "source": [
    "yhat = model.predict(sample[0])"
   ]
  },
  {
   "cell_type": "code",
   "execution_count": null,
   "id": "ea462999-f87e-4a7e-a057-5be7b6d8f7d5",
   "metadata": {
    "tags": []
   },
   "outputs": [],
   "source": [
    "print('~'*100, 'REAL TEXT')\n",
    "[tf.strings.reduce_join([num_to_char(word) for word in sentence]) for sentence in sample[1]]"
   ]
  },
  {
   "cell_type": "code",
   "execution_count": null,
   "id": "82bd4c10-dd6e-411e-834b-2a3b43fd12c5",
   "metadata": {
    "tags": []
   },
   "outputs": [],
   "source": [
    "decoded = tf.keras.backend.ctc_decode(yhat, input_length=[75,75], greedy=True)[0][0].numpy()"
   ]
  },
  {
   "cell_type": "code",
   "execution_count": null,
   "id": "5d68ac46-c90b-4eab-a709-f19aee569ff5",
   "metadata": {
    "tags": []
   },
   "outputs": [],
   "source": [
    "print('~'*100, 'PREDICTIONS')\n",
    "[tf.strings.reduce_join([num_to_char(word) for word in sentence]) for sentence in decoded]"
   ]
  },
  {
   "cell_type": "markdown",
   "id": "64622f98-e99b-4fed-a2cc-f0da82eb5431",
   "metadata": {},
   "source": [
    "# Test on a Video"
   ]
  },
  {
   "cell_type": "code",
   "execution_count": null,
   "id": "a8b0c4d0-2031-4331-b91d-d87b1ae6f6e2",
   "metadata": {},
   "outputs": [],
   "source": [
    "sample = load_data(tf.convert_to_tensor('.\\\\data\\\\s1\\\\bras9a.mpg'))"
   ]
  },
  {
   "cell_type": "code",
   "execution_count": null,
   "id": "0cca60e4-47a9-4683-8a75-48f4684f723d",
   "metadata": {},
   "outputs": [],
   "source": [
    "print('~'*100, 'REAL TEXT')\n",
    "[tf.strings.reduce_join([num_to_char(word) for word in sentence]) for sentence in [sample[1]]]"
   ]
  },
  {
   "cell_type": "code",
   "execution_count": null,
   "id": "8cc5037c-1e32-435c-b0cc-01e1fb3b863c",
   "metadata": {},
   "outputs": [],
   "source": [
    "yhat = model.predict(tf.expand_dims(sample[0], axis=0))"
   ]
  },
  {
   "cell_type": "code",
   "execution_count": null,
   "id": "22c4f77d-715d-409f-bc5e-3ebe48704e8f",
   "metadata": {},
   "outputs": [],
   "source": [
    "decoded = tf.keras.backend.ctc_decode(yhat, input_length=[75], greedy=True)[0][0].numpy()"
   ]
  },
  {
   "cell_type": "code",
   "execution_count": null,
   "id": "e4d12ecc-b634-499e-a4bc-db9f010835fb",
   "metadata": {},
   "outputs": [],
   "source": [
    "print('~'*100, 'PREDICTIONS')\n",
    "[tf.strings.reduce_join([num_to_char(word) for word in sentence]) for sentence in decoded]"
   ]
  }
 ],
 "metadata": {
  "kernelspec": {
   "display_name": "Python 3",
   "language": "python",
   "name": "python3"
  },
  "language_info": {
   "codemirror_mode": {
    "name": "ipython",
    "version": 3
   },
   "file_extension": ".py",
   "mimetype": "text/x-python",
   "name": "python",
   "nbconvert_exporter": "python",
   "pygments_lexer": "ipython3",
   "version": "3.11.3"
  }
 },
 "nbformat": 4,
 "nbformat_minor": 5
}
